{
 "cells": [
  {
   "cell_type": "markdown",
   "id": "f56999b0-19ec-443b-96f2-71ee1e190015",
   "metadata": {},
   "source": [
    "# Predicting Newsletter Subscription on a Minecraft Research Server Using Player and Session Data\n",
    "\n",
    "**Background**\n",
    "Email newsletters are a low-cost, high-impact channel for keeping research-server players engaged over the long term. On the PLAI Minecraft server run by UBC Computer Science, some participants opt in to a game-related newsletter while others do not. Knowing which demographic traits and in-game behaviours drive that decision helps the research team (1) focus recruitment on the most receptive audiences and (2) design targeted retention campaigns that nudge undecided players toward deeper involvement.\n",
    "\n",
    "**Question**\n",
    "Which player characteristics and play-style metrics best predict whether a participant subscribes to the server’s newsletter?\n",
    "By modelling newsletter opt-in as a binary outcome, we aim to identify actionable features—such as total play time, preferred login hours, or self-reported experience level—that distinguish subscribers from non-subscribers.\n",
    "\n",
    "**Data Description**\n",
    "This analysis combines information from two datasets:\n",
    "\n",
    "players.csv – one row per player (n ≈ 196).\n",
    "Key variables:\n",
    "- subscribe (boolean) – target flag indicating newsletter opt-in\n",
    "- experience (categorical) – Pro, Veteran, Regular, etc.\n",
    "- gender, age, country, operating-system strings\n",
    "- hashedEmail (unique anonymised ID)\n",
    "\n",
    "sessions.csv – one row per game session (≈ 1 535 records).\n",
    "Selected variables:\n",
    "- hashedEmail – foreign key to players.csv\n",
    "- start_time, end_time – session boundaries (ISO datetime)\n",
    "- original_start_time, original_end_time – millisecond timestamps\n",
    "\n",
    "Session records will be aggregated per player to derive behavioural predictors—e.g., total minutes played, mean session length, weekday/weekend ratio, and most frequent hour-of-day. After merging with players.csv, the resulting feature matrix will feed a classification model (logistic regression and tree-based methods) to quantify which factors most influence newsletter subscription."
   ]
  },
  {
   "cell_type": "markdown",
   "id": "569fc3ee-c20d-410f-bb7a-a8cf0af61d9d",
   "metadata": {},
   "source": [
    "**Load Packages**"
   ]
  },
  {
   "cell_type": "code",
   "execution_count": 221,
   "id": "ee17217a-9f4a-4683-8a07-6bc528f4f578",
   "metadata": {},
   "outputs": [],
   "source": [
    "### Run this cell before continuing. \n",
    "library(tidyverse)\n",
    "library(lubridate)\n",
    "library(tidymodels)"
   ]
  },
  {
   "cell_type": "markdown",
   "id": "7591ba38-d963-4b22-9dc8-0a4ce8d8b96e",
   "metadata": {},
   "source": [
    "**load raw data**"
   ]
  },
  {
   "cell_type": "code",
   "execution_count": 222,
   "id": "6819789c-e778-47e3-9367-69ea3fcb8c4c",
   "metadata": {},
   "outputs": [
    {
     "data": {
      "text/html": [
       "<table class=\"dataframe\">\n",
       "<caption>A tibble: 6 × 7</caption>\n",
       "<thead>\n",
       "\t<tr><th scope=col>experience</th><th scope=col>subscribe</th><th scope=col>hashedEmail</th><th scope=col>played_hours</th><th scope=col>name</th><th scope=col>gender</th><th scope=col>Age</th></tr>\n",
       "\t<tr><th scope=col>&lt;chr&gt;</th><th scope=col>&lt;lgl&gt;</th><th scope=col>&lt;chr&gt;</th><th scope=col>&lt;dbl&gt;</th><th scope=col>&lt;chr&gt;</th><th scope=col>&lt;chr&gt;</th><th scope=col>&lt;dbl&gt;</th></tr>\n",
       "</thead>\n",
       "<tbody>\n",
       "\t<tr><td>Pro    </td><td> TRUE</td><td>f6daba428a5e19a3d47574858c13550499be23603422e6a0ee9728f8b53e192d</td><td>30.3</td><td>Morgan   </td><td>Male  </td><td> 9</td></tr>\n",
       "\t<tr><td>Veteran</td><td> TRUE</td><td>f3c813577c458ba0dfef80996f8f32c93b6e8af1fa939732842f2312358a88e9</td><td> 3.8</td><td>Christian</td><td>Male  </td><td>17</td></tr>\n",
       "\t<tr><td>Veteran</td><td>FALSE</td><td>b674dd7ee0d24096d1c019615ce4d12b20fcbff12d79d3c5a9d2118eb7ccbb28</td><td> 0.0</td><td>Blake    </td><td>Male  </td><td>17</td></tr>\n",
       "\t<tr><td>Amateur</td><td> TRUE</td><td>23fe711e0e3b77f1da7aa221ab1192afe21648d47d2b4fa7a5a659ff443a0eb5</td><td> 0.7</td><td>Flora    </td><td>Female</td><td>21</td></tr>\n",
       "\t<tr><td>Regular</td><td> TRUE</td><td>7dc01f10bf20671ecfccdac23812b1b415acd42c2147cb0af4d48fcce2420f3e</td><td> 0.1</td><td>Kylie    </td><td>Male  </td><td>21</td></tr>\n",
       "\t<tr><td>Amateur</td><td> TRUE</td><td>f58aad5996a435f16b0284a3b267f973f9af99e7a89bee0430055a44fa92f977</td><td> 0.0</td><td>Adrian   </td><td>Female</td><td>17</td></tr>\n",
       "</tbody>\n",
       "</table>\n"
      ],
      "text/latex": [
       "A tibble: 6 × 7\n",
       "\\begin{tabular}{lllllll}\n",
       " experience & subscribe & hashedEmail & played\\_hours & name & gender & Age\\\\\n",
       " <chr> & <lgl> & <chr> & <dbl> & <chr> & <chr> & <dbl>\\\\\n",
       "\\hline\n",
       "\t Pro     &  TRUE & f6daba428a5e19a3d47574858c13550499be23603422e6a0ee9728f8b53e192d & 30.3 & Morgan    & Male   &  9\\\\\n",
       "\t Veteran &  TRUE & f3c813577c458ba0dfef80996f8f32c93b6e8af1fa939732842f2312358a88e9 &  3.8 & Christian & Male   & 17\\\\\n",
       "\t Veteran & FALSE & b674dd7ee0d24096d1c019615ce4d12b20fcbff12d79d3c5a9d2118eb7ccbb28 &  0.0 & Blake     & Male   & 17\\\\\n",
       "\t Amateur &  TRUE & 23fe711e0e3b77f1da7aa221ab1192afe21648d47d2b4fa7a5a659ff443a0eb5 &  0.7 & Flora     & Female & 21\\\\\n",
       "\t Regular &  TRUE & 7dc01f10bf20671ecfccdac23812b1b415acd42c2147cb0af4d48fcce2420f3e &  0.1 & Kylie     & Male   & 21\\\\\n",
       "\t Amateur &  TRUE & f58aad5996a435f16b0284a3b267f973f9af99e7a89bee0430055a44fa92f977 &  0.0 & Adrian    & Female & 17\\\\\n",
       "\\end{tabular}\n"
      ],
      "text/markdown": [
       "\n",
       "A tibble: 6 × 7\n",
       "\n",
       "| experience &lt;chr&gt; | subscribe &lt;lgl&gt; | hashedEmail &lt;chr&gt; | played_hours &lt;dbl&gt; | name &lt;chr&gt; | gender &lt;chr&gt; | Age &lt;dbl&gt; |\n",
       "|---|---|---|---|---|---|---|\n",
       "| Pro     |  TRUE | f6daba428a5e19a3d47574858c13550499be23603422e6a0ee9728f8b53e192d | 30.3 | Morgan    | Male   |  9 |\n",
       "| Veteran |  TRUE | f3c813577c458ba0dfef80996f8f32c93b6e8af1fa939732842f2312358a88e9 |  3.8 | Christian | Male   | 17 |\n",
       "| Veteran | FALSE | b674dd7ee0d24096d1c019615ce4d12b20fcbff12d79d3c5a9d2118eb7ccbb28 |  0.0 | Blake     | Male   | 17 |\n",
       "| Amateur |  TRUE | 23fe711e0e3b77f1da7aa221ab1192afe21648d47d2b4fa7a5a659ff443a0eb5 |  0.7 | Flora     | Female | 21 |\n",
       "| Regular |  TRUE | 7dc01f10bf20671ecfccdac23812b1b415acd42c2147cb0af4d48fcce2420f3e |  0.1 | Kylie     | Male   | 21 |\n",
       "| Amateur |  TRUE | f58aad5996a435f16b0284a3b267f973f9af99e7a89bee0430055a44fa92f977 |  0.0 | Adrian    | Female | 17 |\n",
       "\n"
      ],
      "text/plain": [
       "  experience subscribe\n",
       "1 Pro         TRUE    \n",
       "2 Veteran     TRUE    \n",
       "3 Veteran    FALSE    \n",
       "4 Amateur     TRUE    \n",
       "5 Regular     TRUE    \n",
       "6 Amateur     TRUE    \n",
       "  hashedEmail                                                      played_hours\n",
       "1 f6daba428a5e19a3d47574858c13550499be23603422e6a0ee9728f8b53e192d 30.3        \n",
       "2 f3c813577c458ba0dfef80996f8f32c93b6e8af1fa939732842f2312358a88e9  3.8        \n",
       "3 b674dd7ee0d24096d1c019615ce4d12b20fcbff12d79d3c5a9d2118eb7ccbb28  0.0        \n",
       "4 23fe711e0e3b77f1da7aa221ab1192afe21648d47d2b4fa7a5a659ff443a0eb5  0.7        \n",
       "5 7dc01f10bf20671ecfccdac23812b1b415acd42c2147cb0af4d48fcce2420f3e  0.1        \n",
       "6 f58aad5996a435f16b0284a3b267f973f9af99e7a89bee0430055a44fa92f977  0.0        \n",
       "  name      gender Age\n",
       "1 Morgan    Male    9 \n",
       "2 Christian Male   17 \n",
       "3 Blake     Male   17 \n",
       "4 Flora     Female 21 \n",
       "5 Kylie     Male   21 \n",
       "6 Adrian    Female 17 "
      ]
     },
     "metadata": {},
     "output_type": "display_data"
    },
    {
     "data": {
      "text/html": [
       "<table class=\"dataframe\">\n",
       "<caption>A tibble: 6 × 5</caption>\n",
       "<thead>\n",
       "\t<tr><th scope=col>hashedEmail</th><th scope=col>start_time</th><th scope=col>end_time</th><th scope=col>original_start_time</th><th scope=col>original_end_time</th></tr>\n",
       "\t<tr><th scope=col>&lt;chr&gt;</th><th scope=col>&lt;chr&gt;</th><th scope=col>&lt;chr&gt;</th><th scope=col>&lt;dbl&gt;</th><th scope=col>&lt;dbl&gt;</th></tr>\n",
       "</thead>\n",
       "<tbody>\n",
       "\t<tr><td>bfce39c89d6549f2bb94d8064d3ce69dc3d7e72b38f431d8aa0c4bf95ccee6bf</td><td>30/06/2024 18:12</td><td>30/06/2024 18:24</td><td>1.71977e+12</td><td>1.71977e+12</td></tr>\n",
       "\t<tr><td>36d9cbb4c6bc0c1a6911436d2da0d09ec625e43e6552f575d4acc9cf487c4686</td><td>17/06/2024 23:33</td><td>17/06/2024 23:46</td><td>1.71867e+12</td><td>1.71867e+12</td></tr>\n",
       "\t<tr><td>f8f5477f5a2e53616ae37421b1c660b971192bd8ff77e3398304c7ae42581fdc</td><td>25/07/2024 17:34</td><td>25/07/2024 17:57</td><td>1.72193e+12</td><td>1.72193e+12</td></tr>\n",
       "\t<tr><td>bfce39c89d6549f2bb94d8064d3ce69dc3d7e72b38f431d8aa0c4bf95ccee6bf</td><td>25/07/2024 03:22</td><td>25/07/2024 03:58</td><td>1.72188e+12</td><td>1.72188e+12</td></tr>\n",
       "\t<tr><td>36d9cbb4c6bc0c1a6911436d2da0d09ec625e43e6552f575d4acc9cf487c4686</td><td>25/05/2024 16:01</td><td>25/05/2024 16:12</td><td>1.71665e+12</td><td>1.71665e+12</td></tr>\n",
       "\t<tr><td>bfce39c89d6549f2bb94d8064d3ce69dc3d7e72b38f431d8aa0c4bf95ccee6bf</td><td>23/06/2024 15:08</td><td>23/06/2024 17:10</td><td>1.71916e+12</td><td>1.71916e+12</td></tr>\n",
       "</tbody>\n",
       "</table>\n"
      ],
      "text/latex": [
       "A tibble: 6 × 5\n",
       "\\begin{tabular}{lllll}\n",
       " hashedEmail & start\\_time & end\\_time & original\\_start\\_time & original\\_end\\_time\\\\\n",
       " <chr> & <chr> & <chr> & <dbl> & <dbl>\\\\\n",
       "\\hline\n",
       "\t bfce39c89d6549f2bb94d8064d3ce69dc3d7e72b38f431d8aa0c4bf95ccee6bf & 30/06/2024 18:12 & 30/06/2024 18:24 & 1.71977e+12 & 1.71977e+12\\\\\n",
       "\t 36d9cbb4c6bc0c1a6911436d2da0d09ec625e43e6552f575d4acc9cf487c4686 & 17/06/2024 23:33 & 17/06/2024 23:46 & 1.71867e+12 & 1.71867e+12\\\\\n",
       "\t f8f5477f5a2e53616ae37421b1c660b971192bd8ff77e3398304c7ae42581fdc & 25/07/2024 17:34 & 25/07/2024 17:57 & 1.72193e+12 & 1.72193e+12\\\\\n",
       "\t bfce39c89d6549f2bb94d8064d3ce69dc3d7e72b38f431d8aa0c4bf95ccee6bf & 25/07/2024 03:22 & 25/07/2024 03:58 & 1.72188e+12 & 1.72188e+12\\\\\n",
       "\t 36d9cbb4c6bc0c1a6911436d2da0d09ec625e43e6552f575d4acc9cf487c4686 & 25/05/2024 16:01 & 25/05/2024 16:12 & 1.71665e+12 & 1.71665e+12\\\\\n",
       "\t bfce39c89d6549f2bb94d8064d3ce69dc3d7e72b38f431d8aa0c4bf95ccee6bf & 23/06/2024 15:08 & 23/06/2024 17:10 & 1.71916e+12 & 1.71916e+12\\\\\n",
       "\\end{tabular}\n"
      ],
      "text/markdown": [
       "\n",
       "A tibble: 6 × 5\n",
       "\n",
       "| hashedEmail &lt;chr&gt; | start_time &lt;chr&gt; | end_time &lt;chr&gt; | original_start_time &lt;dbl&gt; | original_end_time &lt;dbl&gt; |\n",
       "|---|---|---|---|---|\n",
       "| bfce39c89d6549f2bb94d8064d3ce69dc3d7e72b38f431d8aa0c4bf95ccee6bf | 30/06/2024 18:12 | 30/06/2024 18:24 | 1.71977e+12 | 1.71977e+12 |\n",
       "| 36d9cbb4c6bc0c1a6911436d2da0d09ec625e43e6552f575d4acc9cf487c4686 | 17/06/2024 23:33 | 17/06/2024 23:46 | 1.71867e+12 | 1.71867e+12 |\n",
       "| f8f5477f5a2e53616ae37421b1c660b971192bd8ff77e3398304c7ae42581fdc | 25/07/2024 17:34 | 25/07/2024 17:57 | 1.72193e+12 | 1.72193e+12 |\n",
       "| bfce39c89d6549f2bb94d8064d3ce69dc3d7e72b38f431d8aa0c4bf95ccee6bf | 25/07/2024 03:22 | 25/07/2024 03:58 | 1.72188e+12 | 1.72188e+12 |\n",
       "| 36d9cbb4c6bc0c1a6911436d2da0d09ec625e43e6552f575d4acc9cf487c4686 | 25/05/2024 16:01 | 25/05/2024 16:12 | 1.71665e+12 | 1.71665e+12 |\n",
       "| bfce39c89d6549f2bb94d8064d3ce69dc3d7e72b38f431d8aa0c4bf95ccee6bf | 23/06/2024 15:08 | 23/06/2024 17:10 | 1.71916e+12 | 1.71916e+12 |\n",
       "\n"
      ],
      "text/plain": [
       "  hashedEmail                                                     \n",
       "1 bfce39c89d6549f2bb94d8064d3ce69dc3d7e72b38f431d8aa0c4bf95ccee6bf\n",
       "2 36d9cbb4c6bc0c1a6911436d2da0d09ec625e43e6552f575d4acc9cf487c4686\n",
       "3 f8f5477f5a2e53616ae37421b1c660b971192bd8ff77e3398304c7ae42581fdc\n",
       "4 bfce39c89d6549f2bb94d8064d3ce69dc3d7e72b38f431d8aa0c4bf95ccee6bf\n",
       "5 36d9cbb4c6bc0c1a6911436d2da0d09ec625e43e6552f575d4acc9cf487c4686\n",
       "6 bfce39c89d6549f2bb94d8064d3ce69dc3d7e72b38f431d8aa0c4bf95ccee6bf\n",
       "  start_time       end_time         original_start_time original_end_time\n",
       "1 30/06/2024 18:12 30/06/2024 18:24 1.71977e+12         1.71977e+12      \n",
       "2 17/06/2024 23:33 17/06/2024 23:46 1.71867e+12         1.71867e+12      \n",
       "3 25/07/2024 17:34 25/07/2024 17:57 1.72193e+12         1.72193e+12      \n",
       "4 25/07/2024 03:22 25/07/2024 03:58 1.72188e+12         1.72188e+12      \n",
       "5 25/05/2024 16:01 25/05/2024 16:12 1.71665e+12         1.71665e+12      \n",
       "6 23/06/2024 15:08 23/06/2024 17:10 1.71916e+12         1.71916e+12      "
      ]
     },
     "metadata": {},
     "output_type": "display_data"
    }
   ],
   "source": [
    "players  <- read_csv(\"data/players.csv\",\n",
    "                     col_types = cols(.default = col_guess()))\n",
    "sessions <- read_csv(\"data/sessions.csv\",\n",
    "                     col_types = cols(.default = col_guess()))\n",
    "\n",
    "head(players)\n",
    "head(sessions)"
   ]
  },
  {
   "cell_type": "code",
   "execution_count": 223,
   "id": "374df7a2-86f6-4b61-bcc2-075ce3df0d6c",
   "metadata": {},
   "outputs": [],
   "source": [
    "# convert the subscribe variable to factor\n",
    "players <- players |>\n",
    "    mutate(subscribe = as_factor(subscribe))"
   ]
  },
  {
   "cell_type": "code",
   "execution_count": 224,
   "id": "c7dc39ee-08af-4c41-b320-b6faf1190970",
   "metadata": {},
   "outputs": [
    {
     "data": {
      "text/html": [
       "196"
      ],
      "text/latex": [
       "196"
      ],
      "text/markdown": [
       "196"
      ],
      "text/plain": [
       "[1] 196"
      ]
     },
     "metadata": {},
     "output_type": "display_data"
    },
    {
     "data": {
      "text/html": [
       "196"
      ],
      "text/latex": [
       "196"
      ],
      "text/markdown": [
       "196"
      ],
      "text/plain": [
       "[1] 196"
      ]
     },
     "metadata": {},
     "output_type": "display_data"
    }
   ],
   "source": [
    "# each row is unique\n",
    "nrow(players)\n",
    "n_distinct(players$hashedEmail)"
   ]
  },
  {
   "cell_type": "code",
   "execution_count": 225,
   "id": "35cb3480-7670-40d3-8f4a-fbc9b77671d3",
   "metadata": {},
   "outputs": [
    {
     "data": {
      "text/html": [
       "<table class=\"dataframe\">\n",
       "<caption>A tibble: 2 × 3</caption>\n",
       "<thead>\n",
       "\t<tr><th scope=col>subscribe</th><th scope=col>count</th><th scope=col>percentage</th></tr>\n",
       "\t<tr><th scope=col>&lt;fct&gt;</th><th scope=col>&lt;int&gt;</th><th scope=col>&lt;dbl&gt;</th></tr>\n",
       "</thead>\n",
       "<tbody>\n",
       "\t<tr><td>FALSE</td><td> 52</td><td>26.53061</td></tr>\n",
       "\t<tr><td>TRUE </td><td>144</td><td>73.46939</td></tr>\n",
       "</tbody>\n",
       "</table>\n"
      ],
      "text/latex": [
       "A tibble: 2 × 3\n",
       "\\begin{tabular}{lll}\n",
       " subscribe & count & percentage\\\\\n",
       " <fct> & <int> & <dbl>\\\\\n",
       "\\hline\n",
       "\t FALSE &  52 & 26.53061\\\\\n",
       "\t TRUE  & 144 & 73.46939\\\\\n",
       "\\end{tabular}\n"
      ],
      "text/markdown": [
       "\n",
       "A tibble: 2 × 3\n",
       "\n",
       "| subscribe &lt;fct&gt; | count &lt;int&gt; | percentage &lt;dbl&gt; |\n",
       "|---|---|---|\n",
       "| FALSE |  52 | 26.53061 |\n",
       "| TRUE  | 144 | 73.46939 |\n",
       "\n"
      ],
      "text/plain": [
       "  subscribe count percentage\n",
       "1 FALSE      52   26.53061  \n",
       "2 TRUE      144   73.46939  "
      ]
     },
     "metadata": {},
     "output_type": "display_data"
    }
   ],
   "source": [
    "\n",
    "# Exploring Data to see the proportion of True and False in subscribe variable. Baseline\n",
    "num_obs <- nrow(players)\n",
    "players |>\n",
    "  group_by(subscribe) |>\n",
    "  summarize(\n",
    "    count = n(),\n",
    "    percentage = n() / num_obs * 100\n",
    "  )\n"
   ]
  },
  {
   "cell_type": "code",
   "execution_count": 226,
   "id": "3dd18222-28d7-4714-adad-cbace48f56af",
   "metadata": {},
   "outputs": [],
   "source": [
    "# mutate variables to proper type, and correct value\n",
    "sessions_mutate <- sessions_clean |>\n",
    "  mutate(\n",
    "    start_dt = dmy_hm(start_time, tz = \"UTC\"),\n",
    "    end_dt   = dmy_hm(end_time,   tz = \"UTC\"),\n",
    "    dur_min  = as.numeric(difftime(end_dt, start_dt, units = \"mins\")),\n",
    "    wday_lbl = wday(start_dt, label = TRUE),\n",
    "    hour24   = hour(start_dt)\n",
    "  )\n"
   ]
  },
  {
   "cell_type": "code",
   "execution_count": 227,
   "id": "97aac51c-5d0d-4e96-bc21-537d48d5e933",
   "metadata": {},
   "outputs": [],
   "source": [
    "# mutate sessions to get more meaningful data\n",
    "sessions_processed <- sessions_mutate |>\n",
    "  group_by(hashedEmail) |> \n",
    "  summarise(\n",
    "    tot_minutes   = sum(dur_min,   na.rm = TRUE),\n",
    "    n_sessions    = n(),                              # simple count\n",
    "    avg_session_min   = mean(dur_min,  na.rm = TRUE),\n",
    "    evening_prop  = mean(hour24 %in% 18:23),          # 0-1 ratio\n",
    "    weekend_prop  = mean(wday_lbl %in% c(\"Sat\",\"Sun\"))\n",
    "  )"
   ]
  },
  {
   "cell_type": "code",
   "execution_count": 228,
   "id": "ed2ef105-9bc1-4438-834c-7f7c14a5c912",
   "metadata": {},
   "outputs": [],
   "source": [
    "\n",
    "# merge with players.csv\n",
    "combined_data <- players |>\n",
    "  inner_join(sessions_processed, by = \"hashedEmail\") |>\n",
    "  mutate(\n",
    "    subscribe = as.factor(subscribe),           \n",
    "  )"
   ]
  },
  {
   "cell_type": "code",
   "execution_count": 229,
   "id": "66d0ec3a-20ca-482c-909c-ba2e63a5f68a",
   "metadata": {},
   "outputs": [
    {
     "data": {
      "text/html": [
       "125"
      ],
      "text/latex": [
       "125"
      ],
      "text/markdown": [
       "125"
      ],
      "text/plain": [
       "[1] 125"
      ]
     },
     "metadata": {},
     "output_type": "display_data"
    },
    {
     "data": {
      "text/html": [
       "125"
      ],
      "text/latex": [
       "125"
      ],
      "text/markdown": [
       "125"
      ],
      "text/plain": [
       "[1] 125"
      ]
     },
     "metadata": {},
     "output_type": "display_data"
    },
    {
     "data": {
      "text/html": [
       "196"
      ],
      "text/latex": [
       "196"
      ],
      "text/markdown": [
       "196"
      ],
      "text/plain": [
       "[1] 196"
      ]
     },
     "metadata": {},
     "output_type": "display_data"
    }
   ],
   "source": [
    "#checks how many hashedEmail created at least one session. Matches data in combined_data\n",
    "nrow(combined_data)\n",
    "n_distinct(sessions$hashedEmail)\n",
    "nrow(players)"
   ]
  },
  {
   "cell_type": "code",
   "execution_count": 230,
   "id": "ac8af514-1ce4-471f-8402-d30f7bfa5044",
   "metadata": {},
   "outputs": [
    {
     "data": {
      "text/html": [
       "11"
      ],
      "text/latex": [
       "11"
      ],
      "text/markdown": [
       "11"
      ],
      "text/plain": [
       "[1] 11"
      ]
     },
     "metadata": {},
     "output_type": "display_data"
    },
    {
     "name": "stdout",
     "output_type": "stream",
     "text": [
      "\u001b[90m# A tibble: 9 × 2\u001b[39m\n",
      "  variable        accuracy\n",
      "  \u001b[3m\u001b[90m<chr>\u001b[39m\u001b[23m              \u001b[3m\u001b[90m<dbl>\u001b[39m\u001b[23m\n",
      "\u001b[90m1\u001b[39m avg_session_min    0.711\n",
      "\u001b[90m2\u001b[39m tot_minutes        0.658\n",
      "\u001b[90m3\u001b[39m Age                0.526\n",
      "\u001b[90m4\u001b[39m played_hours       0.474\n",
      "\u001b[90m5\u001b[39m n_sessions         0.421\n",
      "\u001b[90m6\u001b[39m experience         0.395\n",
      "\u001b[90m7\u001b[39m evening_prop       0.368\n",
      "\u001b[90m8\u001b[39m weekend_prop       0.368\n",
      "\u001b[90m9\u001b[39m gender             0.289\n"
     ]
    },
    {
     "data": {
      "text/html": [
       "0.736842105263158"
      ],
      "text/latex": [
       "0.736842105263158"
      ],
      "text/markdown": [
       "0.736842105263158"
      ],
      "text/plain": [
       "[1] 0.7368421"
      ]
     },
     "metadata": {},
     "output_type": "display_data"
    },
    {
     "data": {
      "text/html": [
       "0.736842105263158"
      ],
      "text/latex": [
       "0.736842105263158"
      ],
      "text/markdown": [
       "0.736842105263158"
      ],
      "text/plain": [
       "[1] 0.7368421"
      ]
     },
     "metadata": {},
     "output_type": "display_data"
    }
   ],
   "source": [
    "set.seed(42)                            \n",
    "data_split <- initial_split(\n",
    "  combined_data,\n",
    "  prop   = 0.70,\n",
    "  strata = subscribe\n",
    ")\n",
    "train_data <- training(data_split)\n",
    "test_data  <- testing(data_split)\n",
    "\n",
    "knn_rec <- recipe(subscribe ~., data = train_data) |>\n",
    "  step_rm(hashedEmail, name) |>\n",
    "  step_other(gender, threshold = 0.02) |>\n",
    "  step_novel(all_nominal_predictors())|>\n",
    "  step_dummy(all_nominal_predictors(), one_hot = TRUE) |>\n",
    "  step_impute_median(Age) |>\n",
    "  step_zv(all_predictors()) |>\n",
    "  step_normalize(all_numeric_predictors())\n",
    "\n",
    "\n",
    "knn_spec <- nearest_neighbor(neighbors = tune()) |>\n",
    "            set_engine(\"kknn\") |>\n",
    "            set_mode(\"classification\")\n",
    "\n",
    "folds <- vfold_cv(train_data, v = 5, strata = subscribe)\n",
    "\n",
    "\n",
    "# we use 25 as our threshold for k.\n",
    "k_grid <- tibble(neighbors = seq(1, 11, by = 2))\n",
    "\n",
    "# finish the workflow\n",
    "knn_wf <- workflow() |>\n",
    "          add_recipe(knn_rec) |>\n",
    "          add_model(knn_spec) |>\n",
    "          tune_grid(resamples = folds, grid = k_grid) |>\n",
    "          collect_metrics()\n",
    "\n",
    "accuracies <- knn_wf |>\n",
    "  filter(.metric == \"accuracy\")\n",
    "\n",
    "#sort the list by highest accruacy.\n",
    "best_k <- knn_wf |>           \n",
    "  filter(.metric == \"accuracy\") |>\n",
    "  arrange(desc(mean)) |>\n",
    "  slice(1) |>                    \n",
    "  pull(neighbors)\n",
    "\n",
    "# best_k is 23.\n",
    "best_k\n",
    "\n",
    "\n",
    "# retrieve all the variable that we will find accuracy\n",
    "vars <- setdiff(names(train_data), c(\"subscribe\", \"hashedEmail\", \"name\"))\n",
    "\n",
    "knn_spec_fixed <- nearest_neighbor(neighbors = best_k) |>\n",
    "                set_engine(\"kknn\") |>\n",
    "                set_mode(\"classification\")\n",
    "\n",
    "one_var_knn_acc <- function(var){\n",
    "  mini_train <- train_data |> select(subscribe, all_of(var))\n",
    "  mini_test  <- test_data  |> select(subscribe, all_of(var))\n",
    "\n",
    "  if (is.numeric(train_data[[var]])) {\n",
    "    rec <- recipe(subscribe ~ ., data = mini_train) |>\n",
    "           step_normalize(all_numeric_predictors())\n",
    "  } else {\n",
    "    rec <- recipe(subscribe ~ ., data = mini_train) |>\n",
    "           step_other(all_nominal_predictors(), threshold = 0.02) |>\n",
    "           step_novel(all_nominal_predictors()) |>\n",
    "           step_dummy(all_nominal_predictors(), one_hot = TRUE) |>\n",
    "           step_zv(all_predictors())\n",
    "  }\n",
    "\n",
    "  fit <- workflow() |>\n",
    "        add_recipe(rec) |>\n",
    "        add_model(knn_spec_fixed) |>\n",
    "        fit(mini_train)\n",
    "\n",
    "  acc <- accuracy(\n",
    "           bind_cols(predict(fit, mini_test),\n",
    "                     mini_test |> select(subscribe)),\n",
    "           truth = subscribe, estimate = .pred_class\n",
    "         ) |>\n",
    "        pull(.estimate)\n",
    "\n",
    "  tibble(variable = var, accuracy = acc)\n",
    "}\n",
    "\n",
    "scores <- map_dfr(vars, one_var_knn_acc) |>\n",
    "        arrange(desc(accuracy))\n",
    "print(scores)\n",
    "\n",
    "baseline_acc <- test_data |>\n",
    "  count(subscribe) |>\n",
    "  summarise(baseline = max(n) / sum(n)) |>\n",
    "  pull(baseline)\n",
    "\n",
    "baseline_acc\n",
    "\n",
    "\n",
    "knn_rec <- recipe(subscribe ~avg_session_min + tot_minutes + experience, data = train_data) |>\n",
    "  step_novel(all_nominal_predictors()) |>\n",
    "  step_dummy(all_nominal_predictors(), one_hot = TRUE) |>\n",
    "  step_zv(all_predictors()) |>\n",
    "  step_normalize(all_numeric_predictors())\n",
    "\n",
    "\n",
    "knn_spec <- nearest_neighbor(weight_func = \"rectangular\", neighbors = best_k) |>\n",
    "  set_engine(\"kknn\") |>\n",
    "  set_mode(\"classification\")\n",
    "\n",
    "knn_fit <- workflow() |>\n",
    "  add_recipe(knn_rec) |>\n",
    "  add_model(knn_spec) |>\n",
    "  fit(data = train_data)\n",
    "\n",
    "\n",
    "test_preds <- predict(knn_fit, test_data) |>\n",
    "              bind_cols(test_data |> select(subscribe))\n",
    "\n",
    "acc_tbl <- accuracy(test_preds,\n",
    "                    truth    = subscribe,\n",
    "                    estimate = .pred_class)\n",
    "\n",
    "acc_tbl$.estimate           # just the numeric value"
   ]
  },
  {
   "cell_type": "code",
   "execution_count": null,
   "id": "62080928-43b0-40b9-b332-ac8a9d672a25",
   "metadata": {},
   "outputs": [],
   "source": []
  },
  {
   "cell_type": "code",
   "execution_count": null,
   "id": "085a38d3-bb2e-4471-b280-96bd79db77af",
   "metadata": {},
   "outputs": [],
   "source": []
  },
  {
   "cell_type": "code",
   "execution_count": null,
   "id": "23a5adda-cc10-4550-949c-6a0dc80424b7",
   "metadata": {},
   "outputs": [],
   "source": []
  },
  {
   "cell_type": "code",
   "execution_count": null,
   "id": "5354f2ca-b735-48d9-b825-23fcf3f4ea35",
   "metadata": {},
   "outputs": [],
   "source": []
  }
 ],
 "metadata": {
  "kernelspec": {
   "display_name": "R",
   "language": "R",
   "name": "ir"
  },
  "language_info": {
   "codemirror_mode": "r",
   "file_extension": ".r",
   "mimetype": "text/x-r-source",
   "name": "R",
   "pygments_lexer": "r",
   "version": "4.3.3"
  }
 },
 "nbformat": 4,
 "nbformat_minor": 5
}
