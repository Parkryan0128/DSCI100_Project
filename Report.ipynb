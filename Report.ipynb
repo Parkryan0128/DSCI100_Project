{
 "cells": [
  {
   "cell_type": "markdown",
   "id": "f56999b0-19ec-443b-96f2-71ee1e190015",
   "metadata": {},
   "source": [
    "# Forecasting Player Demand on a Minecraft Research Server Using Session Data\n",
    "\n",
    "**Background**\n",
    "Understanding player activity patterns is crucial for effective resource management in online game environments. In this project, we collaborate with a UBC Computer Science research group studying human behavior in video games using a custom Minecraft server. The server records detailed session-level data about when players are active. Since server resources (e.g., hardware, software licenses) are limited, the research team needs to anticipate periods of high demand to allocate resources efficiently.\n",
    "\n",
    "**Question**\n",
    "What times of day or week are most likely to have high numbers of simultaneous players?\n",
    "By analyzing session data, we aim to forecast peak usage windows and help the research team ensure sufficient capacity during high-traffic periods.\n",
    "\n",
    "**Data Description**\n",
    "This project uses two datasets:\n",
    "\n",
    "players.csv: Contains demographic and gameplay summary information for each of 196 unique players. Key variables include:\n",
    "experience (categorical): Self-reported game experience level (e.g., Pro, Veteran, Regular, etc.)\n",
    "subscribe (boolean): Whether the player subscribed to the newsletter\n",
    "played_hours (numeric): Total hours played\n",
    "gender, Age, name, hashedEmail (anonymized player ID)\n",
    "\n",
    "sessions.csv: Contains 1,535 individual game session records with:\n",
    "hashedEmail (to link to players)\n",
    "start_time and end_time (human-readable session times)\n",
    "original_start_time, original_end_time (timestamps in milliseconds)\n",
    "\n",
    "We will primarily use sessions.csv to identify peak concurrent usage trends by aggregating and analyzing session overlaps by hour and day. The goal is to extract clear patterns that support forecasting and resource planning."
   ]
  },
  {
   "cell_type": "markdown",
   "id": "569fc3ee-c20d-410f-bb7a-a8cf0af61d9d",
   "metadata": {},
   "source": [
    "**Load Packages**"
   ]
  },
  {
   "cell_type": "code",
   "execution_count": 15,
   "id": "ee17217a-9f4a-4683-8a07-6bc528f4f578",
   "metadata": {},
   "outputs": [],
   "source": [
    "### Run this cell before continuing. \n",
    "library(tidyverse)\n",
    "library(repr)\n",
    "library(tidymodels)\n",
    "library(GGally)\n",
    "library(ISLR)\n",
    "options(repr.matrix.max.rows = 6)"
   ]
  },
  {
   "cell_type": "markdown",
   "id": "7591ba38-d963-4b22-9dc8-0a4ce8d8b96e",
   "metadata": {},
   "source": [
    "**load data**"
   ]
  },
  {
   "cell_type": "code",
   "execution_count": 23,
   "id": "6819789c-e778-47e3-9367-69ea3fcb8c4c",
   "metadata": {},
   "outputs": [
    {
     "name": "stderr",
     "output_type": "stream",
     "text": [
      "\u001b[1mRows: \u001b[22m\u001b[34m196\u001b[39m \u001b[1mColumns: \u001b[22m\u001b[34m7\u001b[39m\n",
      "\u001b[36m──\u001b[39m \u001b[1mColumn specification\u001b[22m \u001b[36m────────────────────────────────────────────────────────\u001b[39m\n",
      "\u001b[1mDelimiter:\u001b[22m \",\"\n",
      "\u001b[31mchr\u001b[39m (4): experience, hashedEmail, name, gender\n",
      "\u001b[32mdbl\u001b[39m (2): played_hours, Age\n",
      "\u001b[33mlgl\u001b[39m (1): subscribe\n",
      "\n",
      "\u001b[36mℹ\u001b[39m Use `spec()` to retrieve the full column specification for this data.\n",
      "\u001b[36mℹ\u001b[39m Specify the column types or set `show_col_types = FALSE` to quiet this message.\n",
      "\u001b[1mRows: \u001b[22m\u001b[34m1535\u001b[39m \u001b[1mColumns: \u001b[22m\u001b[34m5\u001b[39m\n",
      "\u001b[36m──\u001b[39m \u001b[1mColumn specification\u001b[22m \u001b[36m────────────────────────────────────────────────────────\u001b[39m\n",
      "\u001b[1mDelimiter:\u001b[22m \",\"\n",
      "\u001b[31mchr\u001b[39m (3): hashedEmail, start_time, end_time\n",
      "\u001b[32mdbl\u001b[39m (2): original_start_time, original_end_time\n",
      "\n",
      "\u001b[36mℹ\u001b[39m Use `spec()` to retrieve the full column specification for this data.\n",
      "\u001b[36mℹ\u001b[39m Specify the column types or set `show_col_types = FALSE` to quiet this message.\n"
     ]
    },
    {
     "data": {
      "text/html": [
       "<table class=\"dataframe\">\n",
       "<caption>A tibble: 6 × 7</caption>\n",
       "<thead>\n",
       "\t<tr><th scope=col>experience</th><th scope=col>subscribe</th><th scope=col>hashedEmail</th><th scope=col>played_hours</th><th scope=col>name</th><th scope=col>gender</th><th scope=col>Age</th></tr>\n",
       "\t<tr><th scope=col>&lt;chr&gt;</th><th scope=col>&lt;lgl&gt;</th><th scope=col>&lt;chr&gt;</th><th scope=col>&lt;dbl&gt;</th><th scope=col>&lt;chr&gt;</th><th scope=col>&lt;chr&gt;</th><th scope=col>&lt;dbl&gt;</th></tr>\n",
       "</thead>\n",
       "<tbody>\n",
       "\t<tr><td>Pro    </td><td> TRUE</td><td>f6daba428a5e19a3d47574858c13550499be23603422e6a0ee9728f8b53e192d</td><td>30.3</td><td>Morgan   </td><td>Male  </td><td> 9</td></tr>\n",
       "\t<tr><td>Veteran</td><td> TRUE</td><td>f3c813577c458ba0dfef80996f8f32c93b6e8af1fa939732842f2312358a88e9</td><td> 3.8</td><td>Christian</td><td>Male  </td><td>17</td></tr>\n",
       "\t<tr><td>Veteran</td><td>FALSE</td><td>b674dd7ee0d24096d1c019615ce4d12b20fcbff12d79d3c5a9d2118eb7ccbb28</td><td> 0.0</td><td>Blake    </td><td>Male  </td><td>17</td></tr>\n",
       "\t<tr><td>Amateur</td><td> TRUE</td><td>23fe711e0e3b77f1da7aa221ab1192afe21648d47d2b4fa7a5a659ff443a0eb5</td><td> 0.7</td><td>Flora    </td><td>Female</td><td>21</td></tr>\n",
       "\t<tr><td>Regular</td><td> TRUE</td><td>7dc01f10bf20671ecfccdac23812b1b415acd42c2147cb0af4d48fcce2420f3e</td><td> 0.1</td><td>Kylie    </td><td>Male  </td><td>21</td></tr>\n",
       "\t<tr><td>Amateur</td><td> TRUE</td><td>f58aad5996a435f16b0284a3b267f973f9af99e7a89bee0430055a44fa92f977</td><td> 0.0</td><td>Adrian   </td><td>Female</td><td>17</td></tr>\n",
       "</tbody>\n",
       "</table>\n"
      ],
      "text/latex": [
       "A tibble: 6 × 7\n",
       "\\begin{tabular}{lllllll}\n",
       " experience & subscribe & hashedEmail & played\\_hours & name & gender & Age\\\\\n",
       " <chr> & <lgl> & <chr> & <dbl> & <chr> & <chr> & <dbl>\\\\\n",
       "\\hline\n",
       "\t Pro     &  TRUE & f6daba428a5e19a3d47574858c13550499be23603422e6a0ee9728f8b53e192d & 30.3 & Morgan    & Male   &  9\\\\\n",
       "\t Veteran &  TRUE & f3c813577c458ba0dfef80996f8f32c93b6e8af1fa939732842f2312358a88e9 &  3.8 & Christian & Male   & 17\\\\\n",
       "\t Veteran & FALSE & b674dd7ee0d24096d1c019615ce4d12b20fcbff12d79d3c5a9d2118eb7ccbb28 &  0.0 & Blake     & Male   & 17\\\\\n",
       "\t Amateur &  TRUE & 23fe711e0e3b77f1da7aa221ab1192afe21648d47d2b4fa7a5a659ff443a0eb5 &  0.7 & Flora     & Female & 21\\\\\n",
       "\t Regular &  TRUE & 7dc01f10bf20671ecfccdac23812b1b415acd42c2147cb0af4d48fcce2420f3e &  0.1 & Kylie     & Male   & 21\\\\\n",
       "\t Amateur &  TRUE & f58aad5996a435f16b0284a3b267f973f9af99e7a89bee0430055a44fa92f977 &  0.0 & Adrian    & Female & 17\\\\\n",
       "\\end{tabular}\n"
      ],
      "text/markdown": [
       "\n",
       "A tibble: 6 × 7\n",
       "\n",
       "| experience &lt;chr&gt; | subscribe &lt;lgl&gt; | hashedEmail &lt;chr&gt; | played_hours &lt;dbl&gt; | name &lt;chr&gt; | gender &lt;chr&gt; | Age &lt;dbl&gt; |\n",
       "|---|---|---|---|---|---|---|\n",
       "| Pro     |  TRUE | f6daba428a5e19a3d47574858c13550499be23603422e6a0ee9728f8b53e192d | 30.3 | Morgan    | Male   |  9 |\n",
       "| Veteran |  TRUE | f3c813577c458ba0dfef80996f8f32c93b6e8af1fa939732842f2312358a88e9 |  3.8 | Christian | Male   | 17 |\n",
       "| Veteran | FALSE | b674dd7ee0d24096d1c019615ce4d12b20fcbff12d79d3c5a9d2118eb7ccbb28 |  0.0 | Blake     | Male   | 17 |\n",
       "| Amateur |  TRUE | 23fe711e0e3b77f1da7aa221ab1192afe21648d47d2b4fa7a5a659ff443a0eb5 |  0.7 | Flora     | Female | 21 |\n",
       "| Regular |  TRUE | 7dc01f10bf20671ecfccdac23812b1b415acd42c2147cb0af4d48fcce2420f3e |  0.1 | Kylie     | Male   | 21 |\n",
       "| Amateur |  TRUE | f58aad5996a435f16b0284a3b267f973f9af99e7a89bee0430055a44fa92f977 |  0.0 | Adrian    | Female | 17 |\n",
       "\n"
      ],
      "text/plain": [
       "  experience subscribe\n",
       "1 Pro         TRUE    \n",
       "2 Veteran     TRUE    \n",
       "3 Veteran    FALSE    \n",
       "4 Amateur     TRUE    \n",
       "5 Regular     TRUE    \n",
       "6 Amateur     TRUE    \n",
       "  hashedEmail                                                      played_hours\n",
       "1 f6daba428a5e19a3d47574858c13550499be23603422e6a0ee9728f8b53e192d 30.3        \n",
       "2 f3c813577c458ba0dfef80996f8f32c93b6e8af1fa939732842f2312358a88e9  3.8        \n",
       "3 b674dd7ee0d24096d1c019615ce4d12b20fcbff12d79d3c5a9d2118eb7ccbb28  0.0        \n",
       "4 23fe711e0e3b77f1da7aa221ab1192afe21648d47d2b4fa7a5a659ff443a0eb5  0.7        \n",
       "5 7dc01f10bf20671ecfccdac23812b1b415acd42c2147cb0af4d48fcce2420f3e  0.1        \n",
       "6 f58aad5996a435f16b0284a3b267f973f9af99e7a89bee0430055a44fa92f977  0.0        \n",
       "  name      gender Age\n",
       "1 Morgan    Male    9 \n",
       "2 Christian Male   17 \n",
       "3 Blake     Male   17 \n",
       "4 Flora     Female 21 \n",
       "5 Kylie     Male   21 \n",
       "6 Adrian    Female 17 "
      ]
     },
     "metadata": {},
     "output_type": "display_data"
    },
    {
     "data": {
      "text/html": [
       "<table class=\"dataframe\">\n",
       "<caption>A tibble: 6 × 5</caption>\n",
       "<thead>\n",
       "\t<tr><th scope=col>hashedEmail</th><th scope=col>start_time</th><th scope=col>end_time</th><th scope=col>original_start_time</th><th scope=col>original_end_time</th></tr>\n",
       "\t<tr><th scope=col>&lt;chr&gt;</th><th scope=col>&lt;chr&gt;</th><th scope=col>&lt;chr&gt;</th><th scope=col>&lt;dbl&gt;</th><th scope=col>&lt;dbl&gt;</th></tr>\n",
       "</thead>\n",
       "<tbody>\n",
       "\t<tr><td>bfce39c89d6549f2bb94d8064d3ce69dc3d7e72b38f431d8aa0c4bf95ccee6bf</td><td>30/06/2024 18:12</td><td>30/06/2024 18:24</td><td>1.71977e+12</td><td>1.71977e+12</td></tr>\n",
       "\t<tr><td>36d9cbb4c6bc0c1a6911436d2da0d09ec625e43e6552f575d4acc9cf487c4686</td><td>17/06/2024 23:33</td><td>17/06/2024 23:46</td><td>1.71867e+12</td><td>1.71867e+12</td></tr>\n",
       "\t<tr><td>f8f5477f5a2e53616ae37421b1c660b971192bd8ff77e3398304c7ae42581fdc</td><td>25/07/2024 17:34</td><td>25/07/2024 17:57</td><td>1.72193e+12</td><td>1.72193e+12</td></tr>\n",
       "\t<tr><td>bfce39c89d6549f2bb94d8064d3ce69dc3d7e72b38f431d8aa0c4bf95ccee6bf</td><td>25/07/2024 03:22</td><td>25/07/2024 03:58</td><td>1.72188e+12</td><td>1.72188e+12</td></tr>\n",
       "\t<tr><td>36d9cbb4c6bc0c1a6911436d2da0d09ec625e43e6552f575d4acc9cf487c4686</td><td>25/05/2024 16:01</td><td>25/05/2024 16:12</td><td>1.71665e+12</td><td>1.71665e+12</td></tr>\n",
       "\t<tr><td>bfce39c89d6549f2bb94d8064d3ce69dc3d7e72b38f431d8aa0c4bf95ccee6bf</td><td>23/06/2024 15:08</td><td>23/06/2024 17:10</td><td>1.71916e+12</td><td>1.71916e+12</td></tr>\n",
       "</tbody>\n",
       "</table>\n"
      ],
      "text/latex": [
       "A tibble: 6 × 5\n",
       "\\begin{tabular}{lllll}\n",
       " hashedEmail & start\\_time & end\\_time & original\\_start\\_time & original\\_end\\_time\\\\\n",
       " <chr> & <chr> & <chr> & <dbl> & <dbl>\\\\\n",
       "\\hline\n",
       "\t bfce39c89d6549f2bb94d8064d3ce69dc3d7e72b38f431d8aa0c4bf95ccee6bf & 30/06/2024 18:12 & 30/06/2024 18:24 & 1.71977e+12 & 1.71977e+12\\\\\n",
       "\t 36d9cbb4c6bc0c1a6911436d2da0d09ec625e43e6552f575d4acc9cf487c4686 & 17/06/2024 23:33 & 17/06/2024 23:46 & 1.71867e+12 & 1.71867e+12\\\\\n",
       "\t f8f5477f5a2e53616ae37421b1c660b971192bd8ff77e3398304c7ae42581fdc & 25/07/2024 17:34 & 25/07/2024 17:57 & 1.72193e+12 & 1.72193e+12\\\\\n",
       "\t bfce39c89d6549f2bb94d8064d3ce69dc3d7e72b38f431d8aa0c4bf95ccee6bf & 25/07/2024 03:22 & 25/07/2024 03:58 & 1.72188e+12 & 1.72188e+12\\\\\n",
       "\t 36d9cbb4c6bc0c1a6911436d2da0d09ec625e43e6552f575d4acc9cf487c4686 & 25/05/2024 16:01 & 25/05/2024 16:12 & 1.71665e+12 & 1.71665e+12\\\\\n",
       "\t bfce39c89d6549f2bb94d8064d3ce69dc3d7e72b38f431d8aa0c4bf95ccee6bf & 23/06/2024 15:08 & 23/06/2024 17:10 & 1.71916e+12 & 1.71916e+12\\\\\n",
       "\\end{tabular}\n"
      ],
      "text/markdown": [
       "\n",
       "A tibble: 6 × 5\n",
       "\n",
       "| hashedEmail &lt;chr&gt; | start_time &lt;chr&gt; | end_time &lt;chr&gt; | original_start_time &lt;dbl&gt; | original_end_time &lt;dbl&gt; |\n",
       "|---|---|---|---|---|\n",
       "| bfce39c89d6549f2bb94d8064d3ce69dc3d7e72b38f431d8aa0c4bf95ccee6bf | 30/06/2024 18:12 | 30/06/2024 18:24 | 1.71977e+12 | 1.71977e+12 |\n",
       "| 36d9cbb4c6bc0c1a6911436d2da0d09ec625e43e6552f575d4acc9cf487c4686 | 17/06/2024 23:33 | 17/06/2024 23:46 | 1.71867e+12 | 1.71867e+12 |\n",
       "| f8f5477f5a2e53616ae37421b1c660b971192bd8ff77e3398304c7ae42581fdc | 25/07/2024 17:34 | 25/07/2024 17:57 | 1.72193e+12 | 1.72193e+12 |\n",
       "| bfce39c89d6549f2bb94d8064d3ce69dc3d7e72b38f431d8aa0c4bf95ccee6bf | 25/07/2024 03:22 | 25/07/2024 03:58 | 1.72188e+12 | 1.72188e+12 |\n",
       "| 36d9cbb4c6bc0c1a6911436d2da0d09ec625e43e6552f575d4acc9cf487c4686 | 25/05/2024 16:01 | 25/05/2024 16:12 | 1.71665e+12 | 1.71665e+12 |\n",
       "| bfce39c89d6549f2bb94d8064d3ce69dc3d7e72b38f431d8aa0c4bf95ccee6bf | 23/06/2024 15:08 | 23/06/2024 17:10 | 1.71916e+12 | 1.71916e+12 |\n",
       "\n"
      ],
      "text/plain": [
       "  hashedEmail                                                     \n",
       "1 bfce39c89d6549f2bb94d8064d3ce69dc3d7e72b38f431d8aa0c4bf95ccee6bf\n",
       "2 36d9cbb4c6bc0c1a6911436d2da0d09ec625e43e6552f575d4acc9cf487c4686\n",
       "3 f8f5477f5a2e53616ae37421b1c660b971192bd8ff77e3398304c7ae42581fdc\n",
       "4 bfce39c89d6549f2bb94d8064d3ce69dc3d7e72b38f431d8aa0c4bf95ccee6bf\n",
       "5 36d9cbb4c6bc0c1a6911436d2da0d09ec625e43e6552f575d4acc9cf487c4686\n",
       "6 bfce39c89d6549f2bb94d8064d3ce69dc3d7e72b38f431d8aa0c4bf95ccee6bf\n",
       "  start_time       end_time         original_start_time original_end_time\n",
       "1 30/06/2024 18:12 30/06/2024 18:24 1.71977e+12         1.71977e+12      \n",
       "2 17/06/2024 23:33 17/06/2024 23:46 1.71867e+12         1.71867e+12      \n",
       "3 25/07/2024 17:34 25/07/2024 17:57 1.72193e+12         1.72193e+12      \n",
       "4 25/07/2024 03:22 25/07/2024 03:58 1.72188e+12         1.72188e+12      \n",
       "5 25/05/2024 16:01 25/05/2024 16:12 1.71665e+12         1.71665e+12      \n",
       "6 23/06/2024 15:08 23/06/2024 17:10 1.71916e+12         1.71916e+12      "
      ]
     },
     "metadata": {},
     "output_type": "display_data"
    },
    {
     "data": {
      "text/html": [
       "<table class=\"dataframe\">\n",
       "<caption>A tibble: 1535 × 8</caption>\n",
       "<thead>\n",
       "\t<tr><th scope=col>hashedEmail</th><th scope=col>start_time</th><th scope=col>end_time</th><th scope=col>original_start_time</th><th scope=col>original_end_time</th><th scope=col>weekday</th><th scope=col>hour</th><th scope=col>session_date</th></tr>\n",
       "\t<tr><th scope=col>&lt;chr&gt;</th><th scope=col>&lt;dttm&gt;</th><th scope=col>&lt;dttm&gt;</th><th scope=col>&lt;dbl&gt;</th><th scope=col>&lt;dbl&gt;</th><th scope=col>&lt;ord&gt;</th><th scope=col>&lt;int&gt;</th><th scope=col>&lt;date&gt;</th></tr>\n",
       "</thead>\n",
       "<tbody>\n",
       "\t<tr><td>bfce39c89d6549f2bb94d8064d3ce69dc3d7e72b38f431d8aa0c4bf95ccee6bf</td><td>2024-06-30 18:12:00</td><td>2024-06-30 18:24:00</td><td>1.71977e+12</td><td>1.71977e+12</td><td>Sun</td><td>18</td><td>2024-06-30</td></tr>\n",
       "\t<tr><td>36d9cbb4c6bc0c1a6911436d2da0d09ec625e43e6552f575d4acc9cf487c4686</td><td>2024-06-17 23:33:00</td><td>2024-06-17 23:46:00</td><td>1.71867e+12</td><td>1.71867e+12</td><td>Mon</td><td>23</td><td>2024-06-17</td></tr>\n",
       "\t<tr><td>f8f5477f5a2e53616ae37421b1c660b971192bd8ff77e3398304c7ae42581fdc</td><td>2024-07-25 17:34:00</td><td>2024-07-25 17:57:00</td><td>1.72193e+12</td><td>1.72193e+12</td><td>Thu</td><td>17</td><td>2024-07-25</td></tr>\n",
       "\t<tr><td>⋮</td><td>⋮</td><td>⋮</td><td>⋮</td><td>⋮</td><td>⋮</td><td>⋮</td><td>⋮</td></tr>\n",
       "\t<tr><td>fd6563a4e0f6f4273580e5fedbd8dda64990447aea5a33cbb5e894a3867ca44d</td><td>2024-07-28 15:36:00</td><td>2024-07-28 15:57:00</td><td>1.72218e+12</td><td>1.72218e+12</td><td>Sun</td><td>15</td><td>2024-07-28</td></tr>\n",
       "\t<tr><td>fd6563a4e0f6f4273580e5fedbd8dda64990447aea5a33cbb5e894a3867ca44d</td><td>2024-07-25 06:15:00</td><td>2024-07-25 06:22:00</td><td>1.72189e+12</td><td>1.72189e+12</td><td>Thu</td><td> 6</td><td>2024-07-25</td></tr>\n",
       "\t<tr><td>36d9cbb4c6bc0c1a6911436d2da0d09ec625e43e6552f575d4acc9cf487c4686</td><td>2024-05-20 02:26:00</td><td>2024-05-20 02:45:00</td><td>1.71617e+12</td><td>1.71617e+12</td><td>Mon</td><td> 2</td><td>2024-05-20</td></tr>\n",
       "</tbody>\n",
       "</table>\n"
      ],
      "text/latex": [
       "A tibble: 1535 × 8\n",
       "\\begin{tabular}{llllllll}\n",
       " hashedEmail & start\\_time & end\\_time & original\\_start\\_time & original\\_end\\_time & weekday & hour & session\\_date\\\\\n",
       " <chr> & <dttm> & <dttm> & <dbl> & <dbl> & <ord> & <int> & <date>\\\\\n",
       "\\hline\n",
       "\t bfce39c89d6549f2bb94d8064d3ce69dc3d7e72b38f431d8aa0c4bf95ccee6bf & 2024-06-30 18:12:00 & 2024-06-30 18:24:00 & 1.71977e+12 & 1.71977e+12 & Sun & 18 & 2024-06-30\\\\\n",
       "\t 36d9cbb4c6bc0c1a6911436d2da0d09ec625e43e6552f575d4acc9cf487c4686 & 2024-06-17 23:33:00 & 2024-06-17 23:46:00 & 1.71867e+12 & 1.71867e+12 & Mon & 23 & 2024-06-17\\\\\n",
       "\t f8f5477f5a2e53616ae37421b1c660b971192bd8ff77e3398304c7ae42581fdc & 2024-07-25 17:34:00 & 2024-07-25 17:57:00 & 1.72193e+12 & 1.72193e+12 & Thu & 17 & 2024-07-25\\\\\n",
       "\t ⋮ & ⋮ & ⋮ & ⋮ & ⋮ & ⋮ & ⋮ & ⋮\\\\\n",
       "\t fd6563a4e0f6f4273580e5fedbd8dda64990447aea5a33cbb5e894a3867ca44d & 2024-07-28 15:36:00 & 2024-07-28 15:57:00 & 1.72218e+12 & 1.72218e+12 & Sun & 15 & 2024-07-28\\\\\n",
       "\t fd6563a4e0f6f4273580e5fedbd8dda64990447aea5a33cbb5e894a3867ca44d & 2024-07-25 06:15:00 & 2024-07-25 06:22:00 & 1.72189e+12 & 1.72189e+12 & Thu &  6 & 2024-07-25\\\\\n",
       "\t 36d9cbb4c6bc0c1a6911436d2da0d09ec625e43e6552f575d4acc9cf487c4686 & 2024-05-20 02:26:00 & 2024-05-20 02:45:00 & 1.71617e+12 & 1.71617e+12 & Mon &  2 & 2024-05-20\\\\\n",
       "\\end{tabular}\n"
      ],
      "text/markdown": [
       "\n",
       "A tibble: 1535 × 8\n",
       "\n",
       "| hashedEmail &lt;chr&gt; | start_time &lt;dttm&gt; | end_time &lt;dttm&gt; | original_start_time &lt;dbl&gt; | original_end_time &lt;dbl&gt; | weekday &lt;ord&gt; | hour &lt;int&gt; | session_date &lt;date&gt; |\n",
       "|---|---|---|---|---|---|---|---|\n",
       "| bfce39c89d6549f2bb94d8064d3ce69dc3d7e72b38f431d8aa0c4bf95ccee6bf | 2024-06-30 18:12:00 | 2024-06-30 18:24:00 | 1.71977e+12 | 1.71977e+12 | Sun | 18 | 2024-06-30 |\n",
       "| 36d9cbb4c6bc0c1a6911436d2da0d09ec625e43e6552f575d4acc9cf487c4686 | 2024-06-17 23:33:00 | 2024-06-17 23:46:00 | 1.71867e+12 | 1.71867e+12 | Mon | 23 | 2024-06-17 |\n",
       "| f8f5477f5a2e53616ae37421b1c660b971192bd8ff77e3398304c7ae42581fdc | 2024-07-25 17:34:00 | 2024-07-25 17:57:00 | 1.72193e+12 | 1.72193e+12 | Thu | 17 | 2024-07-25 |\n",
       "| ⋮ | ⋮ | ⋮ | ⋮ | ⋮ | ⋮ | ⋮ | ⋮ |\n",
       "| fd6563a4e0f6f4273580e5fedbd8dda64990447aea5a33cbb5e894a3867ca44d | 2024-07-28 15:36:00 | 2024-07-28 15:57:00 | 1.72218e+12 | 1.72218e+12 | Sun | 15 | 2024-07-28 |\n",
       "| fd6563a4e0f6f4273580e5fedbd8dda64990447aea5a33cbb5e894a3867ca44d | 2024-07-25 06:15:00 | 2024-07-25 06:22:00 | 1.72189e+12 | 1.72189e+12 | Thu |  6 | 2024-07-25 |\n",
       "| 36d9cbb4c6bc0c1a6911436d2da0d09ec625e43e6552f575d4acc9cf487c4686 | 2024-05-20 02:26:00 | 2024-05-20 02:45:00 | 1.71617e+12 | 1.71617e+12 | Mon |  2 | 2024-05-20 |\n",
       "\n"
      ],
      "text/plain": [
       "     hashedEmail                                                     \n",
       "1    bfce39c89d6549f2bb94d8064d3ce69dc3d7e72b38f431d8aa0c4bf95ccee6bf\n",
       "2    36d9cbb4c6bc0c1a6911436d2da0d09ec625e43e6552f575d4acc9cf487c4686\n",
       "3    f8f5477f5a2e53616ae37421b1c660b971192bd8ff77e3398304c7ae42581fdc\n",
       "⋮    ⋮                                                               \n",
       "1533 fd6563a4e0f6f4273580e5fedbd8dda64990447aea5a33cbb5e894a3867ca44d\n",
       "1534 fd6563a4e0f6f4273580e5fedbd8dda64990447aea5a33cbb5e894a3867ca44d\n",
       "1535 36d9cbb4c6bc0c1a6911436d2da0d09ec625e43e6552f575d4acc9cf487c4686\n",
       "     start_time          end_time            original_start_time\n",
       "1    2024-06-30 18:12:00 2024-06-30 18:24:00 1.71977e+12        \n",
       "2    2024-06-17 23:33:00 2024-06-17 23:46:00 1.71867e+12        \n",
       "3    2024-07-25 17:34:00 2024-07-25 17:57:00 1.72193e+12        \n",
       "⋮    ⋮                   ⋮                   ⋮                  \n",
       "1533 2024-07-28 15:36:00 2024-07-28 15:57:00 1.72218e+12        \n",
       "1534 2024-07-25 06:15:00 2024-07-25 06:22:00 1.72189e+12        \n",
       "1535 2024-05-20 02:26:00 2024-05-20 02:45:00 1.71617e+12        \n",
       "     original_end_time weekday hour session_date\n",
       "1    1.71977e+12       Sun     18   2024-06-30  \n",
       "2    1.71867e+12       Mon     23   2024-06-17  \n",
       "3    1.72193e+12       Thu     17   2024-07-25  \n",
       "⋮    ⋮                 ⋮       ⋮    ⋮           \n",
       "1533 1.72218e+12       Sun     15   2024-07-28  \n",
       "1534 1.72189e+12       Thu      6   2024-07-25  \n",
       "1535 1.71617e+12       Mon      2   2024-05-20  "
      ]
     },
     "metadata": {},
     "output_type": "display_data"
    }
   ],
   "source": [
    "players <- read_csv(\"data/players.csv\")\n",
    "sessions <- read_csv(\"data/sessions.csv\")\n",
    "\n",
    "head(players)\n",
    "head(sessions)"
   ]
  },
  {
   "cell_type": "code",
   "execution_count": null,
   "id": "0229f4ad-4cbe-4b24-ad58-9fb6e8cf26f1",
   "metadata": {},
   "outputs": [],
   "source": []
  }
 ],
 "metadata": {
  "kernelspec": {
   "display_name": "R",
   "language": "R",
   "name": "ir"
  },
  "language_info": {
   "codemirror_mode": "r",
   "file_extension": ".r",
   "mimetype": "text/x-r-source",
   "name": "R",
   "pygments_lexer": "r",
   "version": "4.3.3"
  }
 },
 "nbformat": 4,
 "nbformat_minor": 5
}
